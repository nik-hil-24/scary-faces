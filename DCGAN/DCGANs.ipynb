{
  "cells": [
    {
      "cell_type": "markdown",
      "metadata": {
        "id": "view-in-github",
        "colab_type": "text"
      },
      "source": [
        "<a href=\"https://colab.research.google.com/github/nik-hil-24/scary-faces/blob/main/DCGAN/DCGANs.ipynb\" target=\"_parent\"><img src=\"https://colab.research.google.com/assets/colab-badge.svg\" alt=\"Open In Colab\"/></a>"
      ]
    },
    {
      "cell_type": "code",
      "execution_count": 1,
      "metadata": {
        "id": "_9nzZWw45gHE"
      },
      "outputs": [],
      "source": [
        "import os\n",
        "import cv2\n",
        "import torch\n",
        "import numpy as np\n",
        "from tqdm import tqdm\n",
        "import torch.nn as nn\n",
        "import torch.optim as optim\n",
        "import matplotlib.pyplot as plt\n",
        "import torch.nn.functional as F\n",
        "from torch.utils.data import DataLoader\n",
        "from torchvision.utils import save_image\n",
        "from torchvision import transforms, datasets"
      ]
    },
    {
      "cell_type": "code",
      "execution_count": 2,
      "metadata": {
        "id": "QhtuTVpENFlr"
      },
      "outputs": [],
      "source": [
        "import warnings\n",
        "warnings.filterwarnings('ignore')"
      ]
    },
    {
      "cell_type": "code",
      "execution_count": 3,
      "metadata": {
        "colab": {
          "base_uri": "https://localhost:8080/"
        },
        "id": "GF_Po0rQNMLU",
        "outputId": "d7501b5d-b2d4-4588-dff4-aeaa065e49ee"
      },
      "outputs": [
        {
          "output_type": "stream",
          "name": "stdout",
          "text": [
            "Drive already mounted at /content/drive; to attempt to forcibly remount, call drive.mount(\"/content/drive\", force_remount=True).\n"
          ]
        }
      ],
      "source": [
        "from google.colab import drive\n",
        "drive.mount('/content/drive')"
      ]
    },
    {
      "cell_type": "code",
      "execution_count": 4,
      "metadata": {
        "id": "jqyaBQyF0gWn"
      },
      "outputs": [],
      "source": [
        "# device\n",
        "if torch.cuda.device_count() != 0:\n",
        "  device = torch.device('cuda:0')\n",
        "\n",
        "# Data foldder\n",
        "# folder = '/content/drive/MyDrive/DCGANs/cats'\n",
        "\n",
        "# Training batch size\n",
        "batchSize = 128\n",
        "\n",
        "# Latent vector size\n",
        "latentSize = 100\n",
        "\n",
        "# Number of channels\n",
        "nc = 3\n",
        "\n",
        "# Image Size\n",
        "imageSize = 64\n",
        "\n",
        "# Size of feature maps in generator\n",
        "ngf = 64\n",
        "\n",
        "# Size of feature maps in discriminator\n",
        "ndf = 64\n",
        "\n",
        "# Learning Rate and hyperparameters\n",
        "lr = 0.0002\n",
        "beta1 = 0.5\n",
        "\n",
        "# Epochs\n",
        "epochs = 100\n",
        "\n",
        "# Transforms\n",
        "TRANSFORM = transforms.Compose([transforms.ToTensor(),\n",
        "                                transforms.Resize(imageSize)])"
      ]
    },
    {
      "cell_type": "code",
      "source": [
        "# Datatset\n",
        "dataset = datasets.LFWPeople(root = '/content', split = 'train', transform = TRANSFORM, download = True)\n",
        "trainLoader = DataLoader(dataset = dataset, batch_size = batchSize, shuffle = True)\n",
        "\n",
        "images, classes = next(iter(trainLoader))"
      ],
      "metadata": {
        "colab": {
          "base_uri": "https://localhost:8080/"
        },
        "id": "bmHST4oayibE",
        "outputId": "507a42c0-bfe2-4767-9e8e-610e9b3f2d59"
      },
      "execution_count": 5,
      "outputs": [
        {
          "output_type": "stream",
          "name": "stdout",
          "text": [
            "Files already downloaded and verified\n"
          ]
        }
      ]
    },
    {
      "cell_type": "code",
      "execution_count": 6,
      "metadata": {
        "id": "5mZexlKeNC9M"
      },
      "outputs": [],
      "source": [
        "# class Dataset():\n",
        "#     data = []\n",
        "#     def readImages(self, folder):\n",
        "#         for files in os.listdir(folder):\n",
        "#           try:\n",
        "#             image_path = os.path.join(folder, files)\n",
        "#             image = cv2.imread(image_path)\n",
        "#             if image is not None:\n",
        "#                 image = cv2.cvtColor(image, cv2.COLOR_BGR2RGB)\n",
        "#                 # image = cv2.resize(image, (64, 64))\n",
        "#                 self.data.append(np.array(image))\n",
        "#           except Exception as e:\n",
        "#             print('Error in reading data')\n",
        "#         self.data = torch.tensor(self.data, dtype = torch.float32).view(-1, 3, 64, 64)\n",
        "#         end_pt = int(len(self.data)/128)*128\n",
        "#         self.data = self.data[:end_pt]\n",
        "#         np.save('data.npy', self.data/255)\n",
        "\n",
        "# dataReader = Dataset()\n",
        "# dataReader.readImages(folder)"
      ]
    },
    {
      "cell_type": "code",
      "source": [
        "# data = np.load('data.npy')\n",
        "# data = torch.tensor(data)"
      ],
      "metadata": {
        "id": "Rq1cED6ax2NH"
      },
      "execution_count": 7,
      "outputs": []
    },
    {
      "cell_type": "markdown",
      "source": [
        "# **Model**"
      ],
      "metadata": {
        "id": "4SMDoalqJSGz"
      }
    },
    {
      "cell_type": "code",
      "execution_count": 8,
      "metadata": {
        "id": "aBncYk22WSCL"
      },
      "outputs": [],
      "source": [
        "def weightInit(m):\n",
        "  classname = m.__class__.__name__\n",
        "  if classname.find('Conv') != -1:\n",
        "    nn.init.normal_(m.weight.data, 0.0, 0.02)\n",
        "  elif classname.find('BatchNorm') != -1:\n",
        "    nn.init.normal_(m.weight.data, 0.0, 0.02)\n",
        "    nn.init.constant_(m.bias.data, 0)"
      ]
    },
    {
      "cell_type": "code",
      "execution_count": 9,
      "metadata": {
        "id": "7j8ptBOcYPLT",
        "colab": {
          "base_uri": "https://localhost:8080/"
        },
        "outputId": "45b385dd-6acd-4206-bd87-35dd78433979"
      },
      "outputs": [
        {
          "output_type": "execute_result",
          "data": {
            "text/plain": [
              "Generator(\n",
              "  (main): Sequential(\n",
              "    (0): ConvTranspose2d(100, 512, kernel_size=(4, 4), stride=(1, 1), bias=False)\n",
              "    (1): BatchNorm2d(512, eps=1e-05, momentum=0.1, affine=True, track_running_stats=True)\n",
              "    (2): ReLU(inplace=True)\n",
              "    (3): ConvTranspose2d(512, 256, kernel_size=(4, 4), stride=(2, 2), padding=(1, 1), bias=False)\n",
              "    (4): BatchNorm2d(256, eps=1e-05, momentum=0.1, affine=True, track_running_stats=True)\n",
              "    (5): ReLU(inplace=True)\n",
              "    (6): ConvTranspose2d(256, 128, kernel_size=(4, 4), stride=(2, 2), padding=(1, 1), bias=False)\n",
              "    (7): BatchNorm2d(128, eps=1e-05, momentum=0.1, affine=True, track_running_stats=True)\n",
              "    (8): ReLU(inplace=True)\n",
              "    (9): ConvTranspose2d(128, 64, kernel_size=(4, 4), stride=(2, 2), padding=(1, 1), bias=False)\n",
              "    (10): BatchNorm2d(64, eps=1e-05, momentum=0.1, affine=True, track_running_stats=True)\n",
              "    (11): ReLU(inplace=True)\n",
              "    (12): ConvTranspose2d(64, 3, kernel_size=(4, 4), stride=(2, 2), padding=(1, 1), bias=False)\n",
              "    (13): Tanh()\n",
              "  )\n",
              ")"
            ]
          },
          "metadata": {},
          "execution_count": 9
        }
      ],
      "source": [
        "# this is correct\n",
        "class Generator(nn.Module):\n",
        "  def __init__(self):\n",
        "    super(Generator, self).__init__()\n",
        "    self.main = nn.Sequential(\n",
        "        nn.ConvTranspose2d(latentSize, ngf*8, 4, 1, 0, bias = False),\n",
        "        nn.BatchNorm2d(ngf*8),\n",
        "        nn.ReLU(True),\n",
        "\n",
        "        # 512x4x4\n",
        "        nn.ConvTranspose2d(ngf*8, ngf*4, 4, 2, 1, bias = False),\n",
        "        nn.BatchNorm2d(ngf*4),\n",
        "        nn.ReLU(True),\n",
        "\n",
        "        # 256x8x8\n",
        "        nn.ConvTranspose2d(ngf*4, ngf*2, 4, 2, 1, bias = False),\n",
        "        nn.BatchNorm2d(ngf*2),\n",
        "        nn.ReLU(True),\n",
        "\n",
        "        # 128x16x16\n",
        "        nn.ConvTranspose2d(ngf*2, ngf, 4, 2, 1, bias = False),\n",
        "        nn.BatchNorm2d(ngf),\n",
        "        nn.ReLU(True),\n",
        "\n",
        "        # 64x32x32\n",
        "        nn.ConvTranspose2d(ngf, 3, 4, 2, 1, bias = False),\n",
        "        nn.Tanh()\n",
        "        # 3x64x64\n",
        "    )\n",
        "\n",
        "  def forward(self, x):\n",
        "    return self.main(x)\n",
        "\n",
        "generator = Generator().to(device)\n",
        "generator.apply(weightInit)"
      ]
    },
    {
      "cell_type": "code",
      "execution_count": 10,
      "metadata": {
        "id": "ce5gMrb1AL4K",
        "colab": {
          "base_uri": "https://localhost:8080/"
        },
        "outputId": "24c17753-72ad-40bc-8a7c-1edefd6d42f6"
      },
      "outputs": [
        {
          "output_type": "execute_result",
          "data": {
            "text/plain": [
              "Discriminator(\n",
              "  (main): Sequential(\n",
              "    (0): Conv2d(3, 64, kernel_size=(4, 4), stride=(2, 2), padding=(1, 1), bias=False)\n",
              "    (1): LeakyReLU(negative_slope=0.2)\n",
              "    (2): Conv2d(64, 128, kernel_size=(4, 4), stride=(2, 2), padding=(1, 1), bias=False)\n",
              "    (3): BatchNorm2d(128, eps=1e-05, momentum=0.1, affine=True, track_running_stats=True)\n",
              "    (4): LeakyReLU(negative_slope=0.2, inplace=True)\n",
              "    (5): Conv2d(128, 256, kernel_size=(4, 4), stride=(2, 2), padding=(1, 1), bias=False)\n",
              "    (6): BatchNorm2d(256, eps=1e-05, momentum=0.1, affine=True, track_running_stats=True)\n",
              "    (7): LeakyReLU(negative_slope=0.2, inplace=True)\n",
              "    (8): Conv2d(256, 512, kernel_size=(4, 4), stride=(2, 2), padding=(1, 1), bias=False)\n",
              "    (9): BatchNorm2d(512, eps=1e-05, momentum=0.1, affine=True, track_running_stats=True)\n",
              "    (10): LeakyReLU(negative_slope=0.2, inplace=True)\n",
              "    (11): Conv2d(512, 1, kernel_size=(4, 4), stride=(1, 1), bias=False)\n",
              "    (12): Sigmoid()\n",
              "  )\n",
              ")"
            ]
          },
          "metadata": {},
          "execution_count": 10
        }
      ],
      "source": [
        "# this is correct\n",
        "class Discriminator(nn.Module):\n",
        "  def __init__(self):\n",
        "    super(Discriminator, self).__init__()\n",
        "    self.main = nn.Sequential(\n",
        "        nn.Conv2d(3, ndf, 4, 2, 1, bias = False),\n",
        "        nn.LeakyReLU(0.2),\n",
        "\n",
        "        # block 1\n",
        "        nn.Conv2d(ndf, ndf*2, 4, 2, 1, bias = False),\n",
        "        nn.BatchNorm2d(ndf*2),\n",
        "        nn.LeakyReLU(0.2, True),\n",
        "\n",
        "        # block 2\n",
        "        nn.Conv2d(ndf*2, ndf*4, 4, 2, 1, bias = False),\n",
        "        nn.BatchNorm2d(ndf*4),\n",
        "        nn.LeakyReLU(0.2, True),\n",
        "\n",
        "        # block 3\n",
        "        nn.Conv2d(ndf*4, ndf*8, 4, 2, 1, bias = False),\n",
        "        nn.BatchNorm2d(ndf*8),\n",
        "        nn.LeakyReLU(0.2, True),\n",
        "\n",
        "        # block final\n",
        "        nn.Conv2d(ndf*8, 1, 4, 1, 0, bias = False),\n",
        "        nn.Sigmoid()\n",
        "    )\n",
        "\n",
        "  def forward(self, x):\n",
        "    return self.main(x)\n",
        "\n",
        "discriminator = Discriminator().to(device)\n",
        "discriminator.apply(weightInit)"
      ]
    },
    {
      "cell_type": "markdown",
      "source": [
        "## **Train**"
      ],
      "metadata": {
        "id": "R998dg_aI_JJ"
      }
    },
    {
      "cell_type": "code",
      "source": [
        "def inference(gen, epoch, n = 2):\n",
        "    if '/content/drive/MyDrive/inference/gan' not in os.listdir('/content/drive/MyDrive/inference'):\n",
        "        try:\n",
        "            os.mkdir('/content/drive/MyDrive/inference/gan')\n",
        "        except:\n",
        "            pass\n",
        "\n",
        "    for i in range(n):\n",
        "        x = torch.randn(1, 100, 1, 1).to(device)\n",
        "        y = gen(x)\n",
        "        y = y.cpu()\n",
        "        save_image(y.view(3,64,64), f\"/content/drive/MyDrive/inference/gan/generated_epoch_{epoch}_iter_{i+1}.png\")"
      ],
      "metadata": {
        "id": "LKd7w6ZZF_Zb"
      },
      "execution_count": 15,
      "outputs": []
    },
    {
      "cell_type": "code",
      "execution_count": 12,
      "metadata": {
        "id": "3ryN1l-oHbiA"
      },
      "outputs": [],
      "source": [
        "criterion = nn.BCELoss()\n",
        "\n",
        "noise = torch.randn(32, latentSize, 1, 1)\n",
        "\n",
        "optimizerD = optim.Adam(discriminator.parameters(), lr = lr, betas = (beta1, 0.999))\n",
        "optimizerG = optim.Adam(generator.parameters(), lr = lr,  betas = (beta1, 0.999))"
      ]
    },
    {
      "cell_type": "code",
      "execution_count": 13,
      "metadata": {
        "id": "PbVmIKHGarB1",
        "colab": {
          "base_uri": "https://localhost:8080/"
        },
        "outputId": "5824c64a-85ca-47f0-c042-f1ca1a2ab72a"
      },
      "outputs": [
        {
          "output_type": "stream",
          "name": "stdout",
          "text": [
            "[1/100] Epochs\n"
          ]
        },
        {
          "output_type": "stream",
          "name": "stderr",
          "text": [
            "75it [00:36,  2.03it/s, lossD=0.0536, lossG=3.64]\n"
          ]
        },
        {
          "output_type": "stream",
          "name": "stdout",
          "text": [
            "[2/100] Epochs\n"
          ]
        },
        {
          "output_type": "stream",
          "name": "stderr",
          "text": [
            "75it [00:28,  2.60it/s, lossD=0.862, lossG=1.89]\n"
          ]
        },
        {
          "output_type": "stream",
          "name": "stdout",
          "text": [
            "[3/100] Epochs\n"
          ]
        },
        {
          "output_type": "stream",
          "name": "stderr",
          "text": [
            "75it [00:28,  2.62it/s, lossD=1.4, lossG=5.59]\n"
          ]
        },
        {
          "output_type": "stream",
          "name": "stdout",
          "text": [
            "[4/100] Epochs\n"
          ]
        },
        {
          "output_type": "stream",
          "name": "stderr",
          "text": [
            "75it [00:29,  2.57it/s, lossD=0.279, lossG=5.07]\n"
          ]
        },
        {
          "output_type": "stream",
          "name": "stdout",
          "text": [
            "[5/100] Epochs\n"
          ]
        },
        {
          "output_type": "stream",
          "name": "stderr",
          "text": [
            "75it [00:29,  2.54it/s, lossD=0.509, lossG=5.09]\n"
          ]
        },
        {
          "output_type": "stream",
          "name": "stdout",
          "text": [
            "[6/100] Epochs\n"
          ]
        },
        {
          "output_type": "stream",
          "name": "stderr",
          "text": [
            "75it [00:29,  2.52it/s, lossD=0.739, lossG=5.52]\n"
          ]
        },
        {
          "output_type": "stream",
          "name": "stdout",
          "text": [
            "[7/100] Epochs\n"
          ]
        },
        {
          "output_type": "stream",
          "name": "stderr",
          "text": [
            "75it [00:28,  2.63it/s, lossD=0.429, lossG=4.77]\n"
          ]
        },
        {
          "output_type": "stream",
          "name": "stdout",
          "text": [
            "[8/100] Epochs\n"
          ]
        },
        {
          "output_type": "stream",
          "name": "stderr",
          "text": [
            "75it [00:28,  2.60it/s, lossD=0.624, lossG=4.13]\n"
          ]
        },
        {
          "output_type": "stream",
          "name": "stdout",
          "text": [
            "[9/100] Epochs\n"
          ]
        },
        {
          "output_type": "stream",
          "name": "stderr",
          "text": [
            "75it [00:28,  2.62it/s, lossD=0.457, lossG=3.9]\n"
          ]
        },
        {
          "output_type": "stream",
          "name": "stdout",
          "text": [
            "[10/100] Epochs\n"
          ]
        },
        {
          "output_type": "stream",
          "name": "stderr",
          "text": [
            "75it [00:28,  2.60it/s, lossD=0.568, lossG=4.36]\n"
          ]
        },
        {
          "output_type": "stream",
          "name": "stdout",
          "text": [
            "[11/100] Epochs\n"
          ]
        },
        {
          "output_type": "stream",
          "name": "stderr",
          "text": [
            "75it [00:28,  2.59it/s, lossD=0.895, lossG=6.31]\n"
          ]
        },
        {
          "output_type": "stream",
          "name": "stdout",
          "text": [
            "[12/100] Epochs\n"
          ]
        },
        {
          "output_type": "stream",
          "name": "stderr",
          "text": [
            "75it [00:28,  2.61it/s, lossD=0.533, lossG=5.32]\n"
          ]
        },
        {
          "output_type": "stream",
          "name": "stdout",
          "text": [
            "[13/100] Epochs\n"
          ]
        },
        {
          "output_type": "stream",
          "name": "stderr",
          "text": [
            "75it [00:28,  2.61it/s, lossD=0.496, lossG=5.4]\n"
          ]
        },
        {
          "output_type": "stream",
          "name": "stdout",
          "text": [
            "[14/100] Epochs\n"
          ]
        },
        {
          "output_type": "stream",
          "name": "stderr",
          "text": [
            "75it [00:28,  2.59it/s, lossD=1.36, lossG=7.6]\n"
          ]
        },
        {
          "output_type": "stream",
          "name": "stdout",
          "text": [
            "[15/100] Epochs\n"
          ]
        },
        {
          "output_type": "stream",
          "name": "stderr",
          "text": [
            "75it [00:28,  2.61it/s, lossD=0.307, lossG=3.39]\n"
          ]
        },
        {
          "output_type": "stream",
          "name": "stdout",
          "text": [
            "[16/100] Epochs\n"
          ]
        },
        {
          "output_type": "stream",
          "name": "stderr",
          "text": [
            "75it [00:29,  2.56it/s, lossD=0.518, lossG=2.86]\n"
          ]
        },
        {
          "output_type": "stream",
          "name": "stdout",
          "text": [
            "[17/100] Epochs\n"
          ]
        },
        {
          "output_type": "stream",
          "name": "stderr",
          "text": [
            "75it [00:28,  2.62it/s, lossD=0.412, lossG=5.6]\n"
          ]
        },
        {
          "output_type": "stream",
          "name": "stdout",
          "text": [
            "[18/100] Epochs\n"
          ]
        },
        {
          "output_type": "stream",
          "name": "stderr",
          "text": [
            "75it [00:28,  2.61it/s, lossD=0.241, lossG=4.99]\n"
          ]
        },
        {
          "output_type": "stream",
          "name": "stdout",
          "text": [
            "[19/100] Epochs\n"
          ]
        },
        {
          "output_type": "stream",
          "name": "stderr",
          "text": [
            "75it [00:28,  2.60it/s, lossD=0.293, lossG=4.12]\n"
          ]
        },
        {
          "output_type": "stream",
          "name": "stdout",
          "text": [
            "[20/100] Epochs\n"
          ]
        },
        {
          "output_type": "stream",
          "name": "stderr",
          "text": [
            "75it [00:28,  2.60it/s, lossD=0.431, lossG=4.16]\n"
          ]
        },
        {
          "output_type": "stream",
          "name": "stdout",
          "text": [
            "[21/100] Epochs\n"
          ]
        },
        {
          "output_type": "stream",
          "name": "stderr",
          "text": [
            "75it [00:29,  2.58it/s, lossD=0.52, lossG=3.9]\n"
          ]
        },
        {
          "output_type": "stream",
          "name": "stdout",
          "text": [
            "[22/100] Epochs\n"
          ]
        },
        {
          "output_type": "stream",
          "name": "stderr",
          "text": [
            "75it [00:29,  2.57it/s, lossD=0.202, lossG=4.85]\n"
          ]
        },
        {
          "output_type": "stream",
          "name": "stdout",
          "text": [
            "[23/100] Epochs\n"
          ]
        },
        {
          "output_type": "stream",
          "name": "stderr",
          "text": [
            "75it [00:28,  2.60it/s, lossD=0.255, lossG=4.5]\n"
          ]
        },
        {
          "output_type": "stream",
          "name": "stdout",
          "text": [
            "[24/100] Epochs\n"
          ]
        },
        {
          "output_type": "stream",
          "name": "stderr",
          "text": [
            "75it [00:28,  2.60it/s, lossD=0.29, lossG=3.21]\n"
          ]
        },
        {
          "output_type": "stream",
          "name": "stdout",
          "text": [
            "[25/100] Epochs\n"
          ]
        },
        {
          "output_type": "stream",
          "name": "stderr",
          "text": [
            "75it [00:29,  2.58it/s, lossD=0.984, lossG=4.37]\n"
          ]
        },
        {
          "output_type": "stream",
          "name": "stdout",
          "text": [
            "[26/100] Epochs\n"
          ]
        },
        {
          "output_type": "stream",
          "name": "stderr",
          "text": [
            "75it [00:28,  2.59it/s, lossD=0.396, lossG=3.88]\n"
          ]
        },
        {
          "output_type": "stream",
          "name": "stdout",
          "text": [
            "[27/100] Epochs\n"
          ]
        },
        {
          "output_type": "stream",
          "name": "stderr",
          "text": [
            "75it [00:28,  2.59it/s, lossD=0.229, lossG=4.77]\n"
          ]
        },
        {
          "output_type": "stream",
          "name": "stdout",
          "text": [
            "[28/100] Epochs\n"
          ]
        },
        {
          "output_type": "stream",
          "name": "stderr",
          "text": [
            "75it [00:29,  2.58it/s, lossD=0.453, lossG=6.03]\n"
          ]
        },
        {
          "output_type": "stream",
          "name": "stdout",
          "text": [
            "[29/100] Epochs\n"
          ]
        },
        {
          "output_type": "stream",
          "name": "stderr",
          "text": [
            "75it [00:29,  2.57it/s, lossD=0.605, lossG=2.56]\n"
          ]
        },
        {
          "output_type": "stream",
          "name": "stdout",
          "text": [
            "[30/100] Epochs\n"
          ]
        },
        {
          "output_type": "stream",
          "name": "stderr",
          "text": [
            "75it [00:28,  2.60it/s, lossD=0.288, lossG=3.08]\n"
          ]
        },
        {
          "output_type": "stream",
          "name": "stdout",
          "text": [
            "[31/100] Epochs\n"
          ]
        },
        {
          "output_type": "stream",
          "name": "stderr",
          "text": [
            "75it [00:29,  2.58it/s, lossD=0.41, lossG=5.32]\n"
          ]
        },
        {
          "output_type": "stream",
          "name": "stdout",
          "text": [
            "[32/100] Epochs\n"
          ]
        },
        {
          "output_type": "stream",
          "name": "stderr",
          "text": [
            "75it [00:28,  2.63it/s, lossD=0.198, lossG=4.16]\n"
          ]
        },
        {
          "output_type": "stream",
          "name": "stdout",
          "text": [
            "[33/100] Epochs\n"
          ]
        },
        {
          "output_type": "stream",
          "name": "stderr",
          "text": [
            "75it [00:29,  2.55it/s, lossD=0.11, lossG=4.62]\n"
          ]
        },
        {
          "output_type": "stream",
          "name": "stdout",
          "text": [
            "[34/100] Epochs\n"
          ]
        },
        {
          "output_type": "stream",
          "name": "stderr",
          "text": [
            "75it [00:29,  2.53it/s, lossD=0.183, lossG=2.89]\n"
          ]
        },
        {
          "output_type": "stream",
          "name": "stdout",
          "text": [
            "[35/100] Epochs\n"
          ]
        },
        {
          "output_type": "stream",
          "name": "stderr",
          "text": [
            "75it [00:29,  2.59it/s, lossD=0.295, lossG=3.8]\n"
          ]
        },
        {
          "output_type": "stream",
          "name": "stdout",
          "text": [
            "[36/100] Epochs\n"
          ]
        },
        {
          "output_type": "stream",
          "name": "stderr",
          "text": [
            "75it [00:29,  2.58it/s, lossD=2.05, lossG=0.561]\n"
          ]
        },
        {
          "output_type": "stream",
          "name": "stdout",
          "text": [
            "[37/100] Epochs\n"
          ]
        },
        {
          "output_type": "stream",
          "name": "stderr",
          "text": [
            "75it [00:29,  2.59it/s, lossD=0.416, lossG=3.32]\n"
          ]
        },
        {
          "output_type": "stream",
          "name": "stdout",
          "text": [
            "[38/100] Epochs\n"
          ]
        },
        {
          "output_type": "stream",
          "name": "stderr",
          "text": [
            "75it [00:28,  2.59it/s, lossD=0.171, lossG=3.25]\n"
          ]
        },
        {
          "output_type": "stream",
          "name": "stdout",
          "text": [
            "[39/100] Epochs\n"
          ]
        },
        {
          "output_type": "stream",
          "name": "stderr",
          "text": [
            "75it [00:29,  2.59it/s, lossD=0.273, lossG=3.23]\n"
          ]
        },
        {
          "output_type": "stream",
          "name": "stdout",
          "text": [
            "[40/100] Epochs\n"
          ]
        },
        {
          "output_type": "stream",
          "name": "stderr",
          "text": [
            "75it [00:28,  2.59it/s, lossD=0.313, lossG=4.89]\n"
          ]
        },
        {
          "output_type": "stream",
          "name": "stdout",
          "text": [
            "[41/100] Epochs\n"
          ]
        },
        {
          "output_type": "stream",
          "name": "stderr",
          "text": [
            "75it [00:29,  2.58it/s, lossD=0.791, lossG=8.76]\n"
          ]
        },
        {
          "output_type": "stream",
          "name": "stdout",
          "text": [
            "[42/100] Epochs\n"
          ]
        },
        {
          "output_type": "stream",
          "name": "stderr",
          "text": [
            "75it [00:28,  2.59it/s, lossD=0.292, lossG=4.54]\n"
          ]
        },
        {
          "output_type": "stream",
          "name": "stdout",
          "text": [
            "[43/100] Epochs\n"
          ]
        },
        {
          "output_type": "stream",
          "name": "stderr",
          "text": [
            "75it [00:28,  2.59it/s, lossD=0.497, lossG=5.26]\n"
          ]
        },
        {
          "output_type": "stream",
          "name": "stdout",
          "text": [
            "[44/100] Epochs\n"
          ]
        },
        {
          "output_type": "stream",
          "name": "stderr",
          "text": [
            "75it [00:30,  2.49it/s, lossD=0.164, lossG=4.07]\n"
          ]
        },
        {
          "output_type": "stream",
          "name": "stdout",
          "text": [
            "[45/100] Epochs\n"
          ]
        },
        {
          "output_type": "stream",
          "name": "stderr",
          "text": [
            "75it [00:29,  2.58it/s, lossD=0.513, lossG=7.64]\n"
          ]
        },
        {
          "output_type": "stream",
          "name": "stdout",
          "text": [
            "[46/100] Epochs\n"
          ]
        },
        {
          "output_type": "stream",
          "name": "stderr",
          "text": [
            "75it [00:28,  2.59it/s, lossD=0.163, lossG=4.98]\n"
          ]
        },
        {
          "output_type": "stream",
          "name": "stdout",
          "text": [
            "[47/100] Epochs\n"
          ]
        },
        {
          "output_type": "stream",
          "name": "stderr",
          "text": [
            "75it [00:29,  2.56it/s, lossD=0.866, lossG=3.14]\n"
          ]
        },
        {
          "output_type": "stream",
          "name": "stdout",
          "text": [
            "[48/100] Epochs\n"
          ]
        },
        {
          "output_type": "stream",
          "name": "stderr",
          "text": [
            "75it [00:28,  2.60it/s, lossD=0.263, lossG=6.42]\n"
          ]
        },
        {
          "output_type": "stream",
          "name": "stdout",
          "text": [
            "[49/100] Epochs\n"
          ]
        },
        {
          "output_type": "stream",
          "name": "stderr",
          "text": [
            "75it [00:28,  2.60it/s, lossD=0.478, lossG=2.48]\n"
          ]
        },
        {
          "output_type": "stream",
          "name": "stdout",
          "text": [
            "[50/100] Epochs\n"
          ]
        },
        {
          "output_type": "stream",
          "name": "stderr",
          "text": [
            "75it [00:28,  2.61it/s, lossD=0.326, lossG=3.07]\n"
          ]
        },
        {
          "output_type": "stream",
          "name": "stdout",
          "text": [
            "[51/100] Epochs\n"
          ]
        },
        {
          "output_type": "stream",
          "name": "stderr",
          "text": [
            "75it [00:28,  2.60it/s, lossD=0.511, lossG=7.96]\n"
          ]
        },
        {
          "output_type": "stream",
          "name": "stdout",
          "text": [
            "[52/100] Epochs\n"
          ]
        },
        {
          "output_type": "stream",
          "name": "stderr",
          "text": [
            "75it [00:28,  2.60it/s, lossD=0.691, lossG=0.417]\n"
          ]
        },
        {
          "output_type": "stream",
          "name": "stdout",
          "text": [
            "[53/100] Epochs\n"
          ]
        },
        {
          "output_type": "stream",
          "name": "stderr",
          "text": [
            "75it [00:29,  2.54it/s, lossD=2.19, lossG=11.6]\n"
          ]
        },
        {
          "output_type": "stream",
          "name": "stdout",
          "text": [
            "[54/100] Epochs\n"
          ]
        },
        {
          "output_type": "stream",
          "name": "stderr",
          "text": [
            "75it [00:28,  2.63it/s, lossD=0.168, lossG=5.44]\n"
          ]
        },
        {
          "output_type": "stream",
          "name": "stdout",
          "text": [
            "[55/100] Epochs\n"
          ]
        },
        {
          "output_type": "stream",
          "name": "stderr",
          "text": [
            "75it [00:28,  2.62it/s, lossD=2.4, lossG=4.05]\n"
          ]
        },
        {
          "output_type": "stream",
          "name": "stdout",
          "text": [
            "[56/100] Epochs\n"
          ]
        },
        {
          "output_type": "stream",
          "name": "stderr",
          "text": [
            "75it [00:28,  2.61it/s, lossD=0.285, lossG=4.47]\n"
          ]
        },
        {
          "output_type": "stream",
          "name": "stdout",
          "text": [
            "[57/100] Epochs\n"
          ]
        },
        {
          "output_type": "stream",
          "name": "stderr",
          "text": [
            "75it [00:28,  2.62it/s, lossD=0.262, lossG=3.13]\n"
          ]
        },
        {
          "output_type": "stream",
          "name": "stdout",
          "text": [
            "[58/100] Epochs\n"
          ]
        },
        {
          "output_type": "stream",
          "name": "stderr",
          "text": [
            "75it [00:28,  2.59it/s, lossD=0.609, lossG=8.87]\n"
          ]
        },
        {
          "output_type": "stream",
          "name": "stdout",
          "text": [
            "[59/100] Epochs\n"
          ]
        },
        {
          "output_type": "stream",
          "name": "stderr",
          "text": [
            "75it [00:28,  2.60it/s, lossD=0.431, lossG=4.29]\n"
          ]
        },
        {
          "output_type": "stream",
          "name": "stdout",
          "text": [
            "[60/100] Epochs\n"
          ]
        },
        {
          "output_type": "stream",
          "name": "stderr",
          "text": [
            "75it [00:28,  2.62it/s, lossD=1.4, lossG=5.46]\n"
          ]
        },
        {
          "output_type": "stream",
          "name": "stdout",
          "text": [
            "[61/100] Epochs\n"
          ]
        },
        {
          "output_type": "stream",
          "name": "stderr",
          "text": [
            "75it [00:28,  2.62it/s, lossD=0.214, lossG=4.99]\n"
          ]
        },
        {
          "output_type": "stream",
          "name": "stdout",
          "text": [
            "[62/100] Epochs\n"
          ]
        },
        {
          "output_type": "stream",
          "name": "stderr",
          "text": [
            "75it [00:28,  2.62it/s, lossD=0.205, lossG=4.22]\n"
          ]
        },
        {
          "output_type": "stream",
          "name": "stdout",
          "text": [
            "[63/100] Epochs\n"
          ]
        },
        {
          "output_type": "stream",
          "name": "stderr",
          "text": [
            "75it [00:29,  2.54it/s, lossD=0.259, lossG=5.42]\n"
          ]
        },
        {
          "output_type": "stream",
          "name": "stdout",
          "text": [
            "[64/100] Epochs\n"
          ]
        },
        {
          "output_type": "stream",
          "name": "stderr",
          "text": [
            "75it [00:28,  2.60it/s, lossD=0.111, lossG=5.43]\n"
          ]
        },
        {
          "output_type": "stream",
          "name": "stdout",
          "text": [
            "[65/100] Epochs\n"
          ]
        },
        {
          "output_type": "stream",
          "name": "stderr",
          "text": [
            "75it [00:28,  2.60it/s, lossD=0.426, lossG=5.79]\n"
          ]
        },
        {
          "output_type": "stream",
          "name": "stdout",
          "text": [
            "[66/100] Epochs\n"
          ]
        },
        {
          "output_type": "stream",
          "name": "stderr",
          "text": [
            "75it [00:28,  2.62it/s, lossD=0.252, lossG=5.46]\n"
          ]
        },
        {
          "output_type": "stream",
          "name": "stdout",
          "text": [
            "[67/100] Epochs\n"
          ]
        },
        {
          "output_type": "stream",
          "name": "stderr",
          "text": [
            "75it [00:28,  2.63it/s, lossD=0.28, lossG=8.68]\n"
          ]
        },
        {
          "output_type": "stream",
          "name": "stdout",
          "text": [
            "[68/100] Epochs\n"
          ]
        },
        {
          "output_type": "stream",
          "name": "stderr",
          "text": [
            "75it [00:28,  2.62it/s, lossD=0.267, lossG=5.08]\n"
          ]
        },
        {
          "output_type": "stream",
          "name": "stdout",
          "text": [
            "[69/100] Epochs\n"
          ]
        },
        {
          "output_type": "stream",
          "name": "stderr",
          "text": [
            "75it [00:28,  2.62it/s, lossD=0.186, lossG=5.51]\n"
          ]
        },
        {
          "output_type": "stream",
          "name": "stdout",
          "text": [
            "[70/100] Epochs\n"
          ]
        },
        {
          "output_type": "stream",
          "name": "stderr",
          "text": [
            "75it [00:28,  2.62it/s, lossD=0.182, lossG=3.82]\n"
          ]
        },
        {
          "output_type": "stream",
          "name": "stdout",
          "text": [
            "[71/100] Epochs\n"
          ]
        },
        {
          "output_type": "stream",
          "name": "stderr",
          "text": [
            "75it [00:28,  2.62it/s, lossD=0.494, lossG=2.24]\n"
          ]
        },
        {
          "output_type": "stream",
          "name": "stdout",
          "text": [
            "[72/100] Epochs\n"
          ]
        },
        {
          "output_type": "stream",
          "name": "stderr",
          "text": [
            "75it [00:29,  2.51it/s, lossD=0.252, lossG=4.15]\n"
          ]
        },
        {
          "output_type": "stream",
          "name": "stdout",
          "text": [
            "[73/100] Epochs\n"
          ]
        },
        {
          "output_type": "stream",
          "name": "stderr",
          "text": [
            "75it [00:28,  2.59it/s, lossD=0.239, lossG=2.33]\n"
          ]
        },
        {
          "output_type": "stream",
          "name": "stdout",
          "text": [
            "[74/100] Epochs\n"
          ]
        },
        {
          "output_type": "stream",
          "name": "stderr",
          "text": [
            "75it [00:28,  2.60it/s, lossD=0.127, lossG=5.9]\n"
          ]
        },
        {
          "output_type": "stream",
          "name": "stdout",
          "text": [
            "[75/100] Epochs\n"
          ]
        },
        {
          "output_type": "stream",
          "name": "stderr",
          "text": [
            "75it [00:28,  2.61it/s, lossD=0.155, lossG=3.53]\n"
          ]
        },
        {
          "output_type": "stream",
          "name": "stdout",
          "text": [
            "[76/100] Epochs\n"
          ]
        },
        {
          "output_type": "stream",
          "name": "stderr",
          "text": [
            "75it [00:28,  2.63it/s, lossD=1.12, lossG=12]\n"
          ]
        },
        {
          "output_type": "stream",
          "name": "stdout",
          "text": [
            "[77/100] Epochs\n"
          ]
        },
        {
          "output_type": "stream",
          "name": "stderr",
          "text": [
            "75it [00:28,  2.62it/s, lossD=0.436, lossG=3.83]\n"
          ]
        },
        {
          "output_type": "stream",
          "name": "stdout",
          "text": [
            "[78/100] Epochs\n"
          ]
        },
        {
          "output_type": "stream",
          "name": "stderr",
          "text": [
            "75it [00:28,  2.62it/s, lossD=0.108, lossG=5.13]\n"
          ]
        },
        {
          "output_type": "stream",
          "name": "stdout",
          "text": [
            "[79/100] Epochs\n"
          ]
        },
        {
          "output_type": "stream",
          "name": "stderr",
          "text": [
            "75it [00:28,  2.63it/s, lossD=0.16, lossG=5.11]\n"
          ]
        },
        {
          "output_type": "stream",
          "name": "stdout",
          "text": [
            "[80/100] Epochs\n"
          ]
        },
        {
          "output_type": "stream",
          "name": "stderr",
          "text": [
            "75it [00:28,  2.61it/s, lossD=0.157, lossG=3.51]\n"
          ]
        },
        {
          "output_type": "stream",
          "name": "stdout",
          "text": [
            "[81/100] Epochs\n"
          ]
        },
        {
          "output_type": "stream",
          "name": "stderr",
          "text": [
            "75it [00:29,  2.52it/s, lossD=0.255, lossG=3.54]\n"
          ]
        },
        {
          "output_type": "stream",
          "name": "stdout",
          "text": [
            "[82/100] Epochs\n"
          ]
        },
        {
          "output_type": "stream",
          "name": "stderr",
          "text": [
            "75it [00:28,  2.62it/s, lossD=0.0834, lossG=5.01]\n"
          ]
        },
        {
          "output_type": "stream",
          "name": "stdout",
          "text": [
            "[83/100] Epochs\n"
          ]
        },
        {
          "output_type": "stream",
          "name": "stderr",
          "text": [
            "75it [00:28,  2.60it/s, lossD=0.181, lossG=5.47]\n"
          ]
        },
        {
          "output_type": "stream",
          "name": "stdout",
          "text": [
            "[84/100] Epochs\n"
          ]
        },
        {
          "output_type": "stream",
          "name": "stderr",
          "text": [
            "75it [00:28,  2.61it/s, lossD=0.197, lossG=5.2]\n"
          ]
        },
        {
          "output_type": "stream",
          "name": "stdout",
          "text": [
            "[85/100] Epochs\n"
          ]
        },
        {
          "output_type": "stream",
          "name": "stderr",
          "text": [
            "75it [00:28,  2.59it/s, lossD=0.139, lossG=4.08]\n"
          ]
        },
        {
          "output_type": "stream",
          "name": "stdout",
          "text": [
            "[86/100] Epochs\n"
          ]
        },
        {
          "output_type": "stream",
          "name": "stderr",
          "text": [
            "75it [00:29,  2.58it/s, lossD=0.0429, lossG=5.51]\n"
          ]
        },
        {
          "output_type": "stream",
          "name": "stdout",
          "text": [
            "[87/100] Epochs\n"
          ]
        },
        {
          "output_type": "stream",
          "name": "stderr",
          "text": [
            "75it [00:29,  2.57it/s, lossD=0.0911, lossG=1.54]\n"
          ]
        },
        {
          "output_type": "stream",
          "name": "stdout",
          "text": [
            "[88/100] Epochs\n"
          ]
        },
        {
          "output_type": "stream",
          "name": "stderr",
          "text": [
            "75it [00:28,  2.60it/s, lossD=0.0588, lossG=3.09]\n"
          ]
        },
        {
          "output_type": "stream",
          "name": "stdout",
          "text": [
            "[89/100] Epochs\n"
          ]
        },
        {
          "output_type": "stream",
          "name": "stderr",
          "text": [
            "75it [00:28,  2.61it/s, lossD=0.153, lossG=5.99]\n"
          ]
        },
        {
          "output_type": "stream",
          "name": "stdout",
          "text": [
            "[90/100] Epochs\n"
          ]
        },
        {
          "output_type": "stream",
          "name": "stderr",
          "text": [
            "75it [00:29,  2.53it/s, lossD=0.0955, lossG=4.42]\n"
          ]
        },
        {
          "output_type": "stream",
          "name": "stdout",
          "text": [
            "[91/100] Epochs\n"
          ]
        },
        {
          "output_type": "stream",
          "name": "stderr",
          "text": [
            "75it [00:28,  2.62it/s, lossD=0.199, lossG=3.66]\n"
          ]
        },
        {
          "output_type": "stream",
          "name": "stdout",
          "text": [
            "[92/100] Epochs\n"
          ]
        },
        {
          "output_type": "stream",
          "name": "stderr",
          "text": [
            "75it [00:28,  2.62it/s, lossD=0.218, lossG=6.51]\n"
          ]
        },
        {
          "output_type": "stream",
          "name": "stdout",
          "text": [
            "[93/100] Epochs\n"
          ]
        },
        {
          "output_type": "stream",
          "name": "stderr",
          "text": [
            "75it [00:28,  2.60it/s, lossD=0.158, lossG=4.2]\n"
          ]
        },
        {
          "output_type": "stream",
          "name": "stdout",
          "text": [
            "[94/100] Epochs\n"
          ]
        },
        {
          "output_type": "stream",
          "name": "stderr",
          "text": [
            "75it [00:28,  2.62it/s, lossD=0.12, lossG=6.47]\n"
          ]
        },
        {
          "output_type": "stream",
          "name": "stdout",
          "text": [
            "[95/100] Epochs\n"
          ]
        },
        {
          "output_type": "stream",
          "name": "stderr",
          "text": [
            "75it [00:28,  2.61it/s, lossD=0.103, lossG=4.69]\n"
          ]
        },
        {
          "output_type": "stream",
          "name": "stdout",
          "text": [
            "[96/100] Epochs\n"
          ]
        },
        {
          "output_type": "stream",
          "name": "stderr",
          "text": [
            "75it [00:28,  2.61it/s, lossD=0.185, lossG=6.46]\n"
          ]
        },
        {
          "output_type": "stream",
          "name": "stdout",
          "text": [
            "[97/100] Epochs\n"
          ]
        },
        {
          "output_type": "stream",
          "name": "stderr",
          "text": [
            "75it [00:28,  2.60it/s, lossD=0.143, lossG=5.88]\n"
          ]
        },
        {
          "output_type": "stream",
          "name": "stdout",
          "text": [
            "[98/100] Epochs\n"
          ]
        },
        {
          "output_type": "stream",
          "name": "stderr",
          "text": [
            "75it [00:29,  2.57it/s, lossD=0.497, lossG=8.73]\n"
          ]
        },
        {
          "output_type": "stream",
          "name": "stdout",
          "text": [
            "[99/100] Epochs\n"
          ]
        },
        {
          "output_type": "stream",
          "name": "stderr",
          "text": [
            "75it [00:29,  2.53it/s, lossD=0.0389, lossG=5.22]\n"
          ]
        },
        {
          "output_type": "stream",
          "name": "stdout",
          "text": [
            "[100/100] Epochs\n"
          ]
        },
        {
          "output_type": "stream",
          "name": "stderr",
          "text": [
            "75it [00:30,  2.49it/s, lossD=0.371, lossG=6.98]\n"
          ]
        }
      ],
      "source": [
        "errorD = []\n",
        "errorG = []\n",
        "\n",
        "discriminator.train()\n",
        "generator.train()\n",
        "\n",
        "for epoch in range(epochs):\n",
        "    print(f'[{epoch+1}/{epochs}] Epochs')\n",
        "    loop = tqdm(enumerate(trainLoader))\n",
        "    # for i in range(0, len(data), batchSize):\n",
        "    for batch_idx, (x, _) in loop:\n",
        "        X = x.to(device)\n",
        "        b, _, _, _ = X.shape\n",
        "        noise = torch.randn(b, latentSize, 1, 1).to(device)\n",
        "        realLabels = torch.ones(b).to(device)\n",
        "        fakeLabels = torch.zeros(b).to(device)\n",
        "\n",
        "        # Train Discriminator\n",
        "        discriminator.zero_grad()\n",
        "        fake = generator(noise)\n",
        "        output = discriminator(X).view(-1).to(device)\n",
        "        errR = criterion(output, realLabels)\n",
        "\n",
        "        fake = generator(noise)\n",
        "        output = discriminator(fake).view(-1).to(device)\n",
        "        errF = criterion(output, fakeLabels)\n",
        "\n",
        "        errD = errR + errF\n",
        "        errD.backward(retain_graph = True)\n",
        "        optimizerD.step()\n",
        "\n",
        "        # Train Generator\n",
        "        generator.zero_grad()\n",
        "        noise = torch.randn(b, latentSize, 1, 1).to(device)\n",
        "        fake = generator(noise)\n",
        "        realLabels = torch.ones(b).to(device)\n",
        "        output = discriminator(fake).view(-1).to(device)\n",
        "        errG = criterion(output, realLabels)\n",
        "\n",
        "        errG.backward()\n",
        "        optimizerG.step()\n",
        "\n",
        "        errorD.append(errD.item())\n",
        "        errorG.append(errG.item())\n",
        "        loop.set_postfix(lossD = errD.item(), lossG = errG.item())\n",
        "\n",
        "    if (epoch+1)%10 == 0:\n",
        "        inference(generator, epoch)"
      ]
    },
    {
      "cell_type": "code",
      "source": [
        "inference(generator, 'trained', 10)"
      ],
      "metadata": {
        "id": "c9tcC6FUX3c9"
      },
      "execution_count": 16,
      "outputs": []
    },
    {
      "cell_type": "code",
      "execution_count": 14,
      "metadata": {
        "id": "jGRo0ed63wPE",
        "colab": {
          "base_uri": "https://localhost:8080/",
          "height": 466
        },
        "outputId": "908d140e-18a1-40d6-fda2-e0e38c012d81"
      },
      "outputs": [
        {
          "output_type": "execute_result",
          "data": {
            "text/plain": [
              "<matplotlib.legend.Legend at 0x798b47c78ca0>"
            ]
          },
          "metadata": {},
          "execution_count": 14
        },
        {
          "output_type": "display_data",
          "data": {
            "text/plain": [
              "<Figure size 640x480 with 1 Axes>"
            ],
            "image/png": "[encoded data removed]"
          },
          "metadata": {}
        }
      ],
      "source": [
        "plt.plot(errorD)\n",
        "plt.plot(errorG, alpha = 0.7)\n",
        "plt.xlabel('Epochs')\n",
        "plt.ylabel('Loss')\n",
        "plt.legend(['Discriminator', 'Generator'])"
      ]
    }
  ],
  "metadata": {
    "colab": {
      "provenance": [],
      "gpuType": "T4",
      "include_colab_link": true
    },
    "kernelspec": {
      "display_name": "Python 3",
      "name": "python3"
    },
    "language_info": {
      "name": "python"
    },
    "accelerator": "GPU"
  },
  "nbformat": 4,
  "nbformat_minor": 0
}